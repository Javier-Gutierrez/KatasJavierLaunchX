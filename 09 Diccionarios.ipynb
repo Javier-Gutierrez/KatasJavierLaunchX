{
 "cells": [
  {
   "cell_type": "markdown",
   "metadata": {},
   "source": [
    "# Creación de Diccionarios"
   ]
  },
  {
   "cell_type": "code",
   "execution_count": 6,
   "metadata": {},
   "outputs": [
    {
     "name": "stdout",
     "output_type": "stream",
     "text": [
      "El nombre del planeta es: Marte\n",
      "Marte tiene una circunferencia de 6752\n",
      "{'nombre': 'Marte', 'lunas': 2, 'circunferencia (km)': {'polar': 6752, 'equatorial': 6792}}\n"
     ]
    }
   ],
   "source": [
    "planetas = {'nombre': 'Marte', 'lunas': 2}\n",
    "\n",
    "print('El nombre del planeta es: {nombre}'.format(nombre=planetas.get('nombre')))\n",
    "\n",
    "planetas['circunferencia (km)'] = {\n",
    "    'polar': 6752,\n",
    "    'equatorial': 6792\n",
    "}\n",
    "\n",
    "print(f'{planetas[\"nombre\"]} tiene una circunferencia de {planetas[\"circunferencia (km)\"][\"polar\"]}')\n",
    "\n",
    "print(planetas)"
   ]
  },
  {
   "cell_type": "markdown",
   "metadata": {},
   "source": [
    "# Ejercicio 2"
   ]
  },
  {
   "cell_type": "code",
   "execution_count": 9,
   "metadata": {},
   "outputs": [
    {
     "name": "stdout",
     "output_type": "stream",
     "text": [
      "mercurio: 0\n",
      "venus: 0\n",
      "tierra: 1\n",
      "marte: 2\n",
      "jupiter: 79\n",
      "saturno: 82\n",
      "urano: 27\n",
      "neptuno: 14\n",
      "pluton: 5\n",
      "El promedio es: 23.333333333333332\n"
     ]
    }
   ],
   "source": [
    "planetas_lunas = {\n",
    "    'mercurio': 0,\n",
    "    'venus': 0,\n",
    "    'tierra': 1,\n",
    "    'marte': 2,\n",
    "    'jupiter': 79,\n",
    "    'saturno': 82,\n",
    "    'urano': 27,\n",
    "    'neptuno': 14,\n",
    "    'pluton': 5,\n",
    "    \n",
    "}\n",
    "\n",
    "for i in planetas_lunas.keys():\n",
    "    print(f'{i}: {planetas_lunas[i]}')\n",
    "\n",
    "\n",
    "Lunas = planetas_lunas.values() #Lunas\n",
    "\n",
    "planetas = len(planetas_lunas.keys()) #Numeros de plantas\n",
    "\n",
    "total_lunas = 0\n",
    "for i in Lunas:\n",
    "    total_lunas = total_lunas + i\n",
    "\n",
    "promedio = total_lunas / planetas\n",
    "\n",
    "print('El promedio es: {Promedio}'.format(Promedio=promedio))\n"
   ]
  }
 ],
 "metadata": {
  "interpreter": {
   "hash": "705a0fface73d7bf5dcb9415cd126aacd2ed3bc07552ba5f1989523a8d8937c8"
  },
  "kernelspec": {
   "display_name": "Python 3.9.6 64-bit",
   "language": "python",
   "name": "python3"
  },
  "language_info": {
   "codemirror_mode": {
    "name": "ipython",
    "version": 3
   },
   "file_extension": ".py",
   "mimetype": "text/x-python",
   "name": "python",
   "nbconvert_exporter": "python",
   "pygments_lexer": "ipython3",
   "version": "3.9.6"
  },
  "orig_nbformat": 4
 },
 "nbformat": 4,
 "nbformat_minor": 2
}
