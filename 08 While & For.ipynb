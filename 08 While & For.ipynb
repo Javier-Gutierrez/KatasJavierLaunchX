{
 "cells": [
  {
   "cell_type": "markdown",
   "metadata": {},
   "source": [
    "# El uso de ciclos While y For"
   ]
  },
  {
   "cell_type": "code",
   "execution_count": 3,
   "metadata": {},
   "outputs": [
    {
     "name": "stdout",
     "output_type": "stream",
     "text": [
      "['Marte', 'Jupiter', 'Urano', '500', 'Marte', '2', 'no estoy']\n",
      "Marte\n",
      "Jupiter\n",
      "Urano\n",
      "500\n",
      "Marte\n",
      "2\n",
      "no estoy\n"
     ]
    }
   ],
   "source": [
    "AgregarPlaneta = ''\n",
    "ListaPlanetas = []\n",
    "\n",
    "while AgregarPlaneta.lower() != 't':\n",
    "    if AgregarPlaneta:\n",
    "        ListaPlanetas.append(AgregarPlaneta)\n",
    "    AgregarPlaneta = input('Escribe el planeta que deseas agregar a la lista (si terminas presiona la letra T):  ')\n",
    "\n",
    "print(ListaPlanetas)\n",
    "\n"
   ]
  },
  {
   "cell_type": "markdown",
   "metadata": {},
   "source": [
    "# Agregando ciclo for para impresión de planetas o datos"
   ]
  },
  {
   "cell_type": "code",
   "execution_count": null,
   "metadata": {},
   "outputs": [],
   "source": [
    "AgregarPlaneta = ''\n",
    "ListaPlanetas = []\n",
    "\n",
    "while AgregarPlaneta.lower() != 't':\n",
    "    if AgregarPlaneta:\n",
    "        ListaPlanetas.append(AgregarPlaneta)\n",
    "    AgregarPlaneta = input('Escribe el planeta que deseas agregar a la lista (si terminas presiona la letra T):  ')\n",
    "\n",
    "print(ListaPlanetas)\n",
    "\n",
    "for i in ListaPlanetas:\n",
    "    print(i)"
   ]
  }
 ],
 "metadata": {
  "interpreter": {
   "hash": "705a0fface73d7bf5dcb9415cd126aacd2ed3bc07552ba5f1989523a8d8937c8"
  },
  "kernelspec": {
   "display_name": "Python 3.9.6 64-bit",
   "language": "python",
   "name": "python3"
  },
  "language_info": {
   "codemirror_mode": {
    "name": "ipython",
    "version": 3
   },
   "file_extension": ".py",
   "mimetype": "text/x-python",
   "name": "python",
   "nbconvert_exporter": "python",
   "pygments_lexer": "ipython3",
   "version": "3.9.6"
  },
  "orig_nbformat": 4
 },
 "nbformat": 4,
 "nbformat_minor": 2
}
