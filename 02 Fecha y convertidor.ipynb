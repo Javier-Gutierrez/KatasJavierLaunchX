{
 "cells": [
  {
   "cell_type": "markdown",
   "metadata": {},
   "source": [
    "## Para visualizar la fecha\n",
    "Precedemos a importar Date y mandamos a llamar a la función."
   ]
  },
  {
   "cell_type": "code",
   "execution_count": 3,
   "metadata": {},
   "outputs": [
    {
     "name": "stdout",
     "output_type": "stream",
     "text": [
      "La fecha del dia de hoy es: 2022-02-17\n"
     ]
    }
   ],
   "source": [
    "from datetime import date\n",
    "\n",
    "print('La fecha del dia de hoy es: ' +str(date.today()))"
   ]
  },
  {
   "cell_type": "markdown",
   "metadata": {},
   "source": [
    "## Convertidor de unidades\n",
    "Convertidor para pasar de Parsecs a años Luz sabiendo que 1 parsec es igual a 3.26156 años luz"
   ]
  },
  {
   "cell_type": "code",
   "execution_count": 2,
   "metadata": {},
   "outputs": [
    {
     "name": "stdout",
     "output_type": "stream",
     "text": [
      "\n",
      " Calculando los Años luz espere un momento...\n",
      "Te va a tomar 32.6156 años luz\n"
     ]
    }
   ],
   "source": [
    "Parsecs = input('Hola tripulante introduce los Parsecs: ')\n",
    "print('\\n Calculando los Años luz espere un momento...' )\n",
    "Aluz  = int(Parsecs) * 3.26156\n",
    "print('Te va a tomar '+str(Aluz)+' años luz')"
   ]
  }
 ],
 "metadata": {
  "interpreter": {
   "hash": "705a0fface73d7bf5dcb9415cd126aacd2ed3bc07552ba5f1989523a8d8937c8"
  },
  "kernelspec": {
   "display_name": "Python 3.9.6 64-bit",
   "language": "python",
   "name": "python3"
  },
  "language_info": {
   "codemirror_mode": {
    "name": "ipython",
    "version": 3
   },
   "file_extension": ".py",
   "mimetype": "text/x-python",
   "name": "python",
   "nbconvert_exporter": "python",
   "pygments_lexer": "ipython3",
   "version": "3.9.6"
  },
  "orig_nbformat": 4
 },
 "nbformat": 4,
 "nbformat_minor": 2
}
