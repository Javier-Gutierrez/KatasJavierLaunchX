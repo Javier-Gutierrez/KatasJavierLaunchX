{
 "cells": [
  {
   "cell_type": "markdown",
   "metadata": {},
   "source": [
    "# Creación de listas en Python"
   ]
  },
  {
   "cell_type": "code",
   "execution_count": 4,
   "metadata": {},
   "outputs": [
    {
     "name": "stdout",
     "output_type": "stream",
     "text": [
      "La cantidad de planetas es: 8\n",
      "La nueva cantidad de planetas es: 9\n"
     ]
    }
   ],
   "source": [
    "planetas = ['Mercurio', 'Venus', 'Tierra', 'Marte', 'Jupiter', 'Saturno', 'Urano', 'Neptuno']\n",
    "\n",
    "print('La cantidad de planetas es:', len(planetas))\n",
    "\n",
    "planetas.append('Pluton')\n",
    "\n",
    "print('La nueva cantidad de planetas es:', len(planetas))"
   ]
  },
  {
   "cell_type": "markdown",
   "metadata": {},
   "source": [
    "## Inputs y Listas"
   ]
  },
  {
   "cell_type": "code",
   "execution_count": 18,
   "metadata": {},
   "outputs": [
    {
     "name": "stdout",
     "output_type": "stream",
     "text": [
      "Los planetas más cercanos antes que jupiter son: \n",
      "['mercurio', 'venus', 'tierra', 'marte']\n",
      "Los planetas más lejanos despues que jupiter son: \n",
      "['saturno', 'urano', 'neptuno']\n"
     ]
    }
   ],
   "source": [
    "planetas = ['mercurio', 'venus', 'tierra', 'marte', 'jupiter', 'saturno', 'urano', 'neptuno']\n",
    "\n",
    "opcion = input('Ingresa el nombre de un planeta en el sistema  solar: ')\n",
    "\n",
    "planeta_indice = planetas.index(opcion.lower())\n",
    "\n",
    "print('Los planetas más cercanos antes que {Opcion} son: '.format(Opcion=opcion))\n",
    "print(planetas[0:planeta_indice])\n",
    "\n",
    "print('Los planetas más lejanos despues que {Opcion} son: '.format(Opcion=opcion))\n",
    "print(planetas[planeta_indice+1:])\n",
    "\n"
   ]
  }
 ],
 "metadata": {
  "interpreter": {
   "hash": "705a0fface73d7bf5dcb9415cd126aacd2ed3bc07552ba5f1989523a8d8937c8"
  },
  "kernelspec": {
   "display_name": "Python 3.9.6 64-bit",
   "language": "python",
   "name": "python3"
  },
  "language_info": {
   "codemirror_mode": {
    "name": "ipython",
    "version": 3
   },
   "file_extension": ".py",
   "mimetype": "text/x-python",
   "name": "python",
   "nbconvert_exporter": "python",
   "pygments_lexer": "ipython3",
   "version": "3.9.6"
  },
  "orig_nbformat": 4
 },
 "nbformat": 4,
 "nbformat_minor": 2
}
