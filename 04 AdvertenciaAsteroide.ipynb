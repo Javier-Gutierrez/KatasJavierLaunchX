{
 "cells": [
  {
   "cell_type": "markdown",
   "metadata": {},
   "source": [
    "## Advertencia para saber si un Asteroide nos colisiona o no!!!!\n",
    "\n",
    "Este programa nos ayudara a saber si nuestra vida esta en peligro debido a un asteroide!\n",
    "Consideraremos que cualquier velocidad de un asteroide aproximandose a la tierra por encima de 25 Km/s es peligroso."
   ]
  },
  {
   "cell_type": "code",
   "execution_count": 4,
   "metadata": {},
   "outputs": [
    {
     "name": "stdout",
     "output_type": "stream",
     "text": [
      "Corran por sus vidas!!\n"
     ]
    }
   ],
   "source": [
    "VelAs = int (input ('Hola explorer me podrias indicar a que velocidad en Km/s se esta aproximando el asteroide: '))\n",
    "\n",
    "if VelAs <= 25:\n",
    "    \n",
    "    print('No pasa nada tripulantes estamos a Salvo!!!')\n",
    "\n",
    "else:\n",
    "\n",
    "    print('Corran por sus vidas!!')\n"
   ]
  },
  {
   "cell_type": "code",
   "execution_count": 5,
   "metadata": {},
   "outputs": [
    {
     "name": "stdout",
     "output_type": "stream",
     "text": [
      "Explorer apresurate y mira esa luz mágica\n"
     ]
    }
   ],
   "source": [
    "VelAs = int (input ('Hola explorer me podrias indicar a que velocidad en Km/s se esta aproximando el asteroide: '))\n",
    "\n",
    "if VelAs > 20:\n",
    "    \n",
    "    print('Explorer apresurate y mira esa luz mágica')\n",
    "\n",
    "elif VelAs == 20:\n",
    "\n",
    "    print('Explorer apresurate y mira esa luz mágica')\n",
    "\n",
    "else:\n",
    "\n",
    "    print('Nada ha pasado aquí!')"
   ]
  },
  {
   "cell_type": "code",
   "execution_count": 8,
   "metadata": {},
   "outputs": [
    {
     "name": "stdout",
     "output_type": "stream",
     "text": [
      "Nada ha pasado aquí!\n"
     ]
    }
   ],
   "source": [
    "VelAs = int (input ('Hola explorer me podrias indicar a que velocidad en Km/s se esta aproximando el asteroide: '))\n",
    "TamAs = int (input ('Hola explorer me podrias indicar el tamañoo en metros del asteroide que se esta aproximando: '))\n",
    "\n",
    "if VelAs > 25 and TamAs > 1000:\n",
    "    \n",
    "    print('El tiempo se nos ha acabado explorers')\n",
    "\n",
    "elif VelAs > 25 and TamAs > 25:\n",
    "\n",
    "    print('Dolera pero sobreviviremos Urra!!')\n",
    "\n",
    "elif VelAs >= 20 and TamAs <= 25:\n",
    "\n",
    "    print('Explorer apresurate y mira esa luz mágica')\n",
    "\n",
    "else:\n",
    "\n",
    "    print('Nada ha pasado aquí!')"
   ]
  }
 ],
 "metadata": {
  "interpreter": {
   "hash": "705a0fface73d7bf5dcb9415cd126aacd2ed3bc07552ba5f1989523a8d8937c8"
  },
  "kernelspec": {
   "display_name": "Python 3.9.6 64-bit",
   "language": "python",
   "name": "python3"
  },
  "language_info": {
   "codemirror_mode": {
    "name": "ipython",
    "version": 3
   },
   "file_extension": ".py",
   "mimetype": "text/x-python",
   "name": "python",
   "nbconvert_exporter": "python",
   "pygments_lexer": "ipython3",
   "version": "3.9.6"
  },
  "orig_nbformat": 4
 },
 "nbformat": 4,
 "nbformat_minor": 2
}
